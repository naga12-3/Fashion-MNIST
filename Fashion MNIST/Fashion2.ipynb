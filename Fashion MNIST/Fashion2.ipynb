{
  "nbformat": 4,
  "nbformat_minor": 0,
  "metadata": {
    "colab": {
      "name": "Fashion2.ipynb",
      "provenance": []
    },
    "kernelspec": {
      "name": "python3",
      "display_name": "Python 3"
    },
    "language_info": {
      "name": "python"
    }
  },
  "cells": [
    {
      "cell_type": "code",
      "execution_count": 22,
      "metadata": {
        "id": "0BUktk_lacoJ"
      },
      "outputs": [],
      "source": [
        "\n",
        "import os, random\n",
        "import numpy as np\n",
        "import matplotlib.pyplot as plt\n",
        "import seaborn as sns\n",
        "import tensorflow as tf\n",
        "import keras\n",
        "from tensorflow.keras.utils import to_categorical"
      ]
    },
    {
      "cell_type": "code",
      "source": [
        "%cd '/content/drive/MyDrive/BTP/Fashion2'"
      ],
      "metadata": {
        "colab": {
          "base_uri": "https://localhost:8080/"
        },
        "id": "fjVI2vYqil1H",
        "outputId": "c58ed2fd-09d7-405f-9299-16f3e77ea620"
      },
      "execution_count": 23,
      "outputs": [
        {
          "output_type": "stream",
          "name": "stdout",
          "text": [
            "[Errno 2] No such file or directory: '/content/drive/MyDrive/BTP/Fashion2'\n",
            "/content\n"
          ]
        }
      ]
    },
    {
      "cell_type": "code",
      "source": [
        "def load_and_preprocess_data(debug=False):\n",
        "    \n",
        "    from tensorflow.keras.datasets.fashion_mnist import load_data\n",
        "   \n",
        "\n",
        "# Step-1: load the raw dataset\n",
        "    (X_train, y_train), (X_test, y_test) = load_data()\n",
        "\n",
        "    indexes = np.arange(X_train.shape[0])\n",
        "    for _ in range(5): indexes = np.random.permutation(indexes)  # shuffle 5 times!\n",
        "    X_train = X_train[indexes]\n",
        "    y_train = y_train[indexes]\n",
        "    X_train1=X_train.copy()\n",
        "    y_train1=y_train.copy()\n",
        "      #Train - 80%\n",
        "      #Valid - 20% \n",
        "    val_count = 48000\n",
        "    X_train=X_train1[:val_count]\n",
        "    y_train=y_train1[:val_count]\n",
        "    X_val = X_train1[val_count:]\n",
        "    y_val = y_train1[val_count:]\n",
        "    \n",
        "# Step-3: scale the images\n",
        "    # scale the images to between 0-1\n",
        "    X_train = X_train.astype('float32') / 255.0\n",
        "    X_val = X_val.astype('float32') / 255.0\n",
        "    X_test = X_test.astype('float32') / 255.0\n",
        "\n",
        "# Step-4: reshape the images into 3D tensors so our CNN can consume it\n",
        "    # reshape the image arrays (make 2D arrays instead of 3D arrays)\n",
        "    X_train = np.reshape(X_train, (X_train.shape[0], X_train.shape[1], X_train.shape[2], 1))\n",
        "    X_val = np.reshape(X_val, (X_val.shape[0], X_val.shape[1], X_val.shape[2], 1))\n",
        "    X_test = np.reshape(X_test, (X_test.shape[0], X_test.shape[1], X_test.shape[2], 1))\n",
        "    y_train=to_categorical(y_train)\n",
        "    y_val=to_categorical(y_val)\n",
        "    y_test=to_categorical(y_test)\n",
        "\n",
        "   \n",
        "\n",
        "    return (X_train, y_train), (X_val, y_val), (X_test, y_test)"
      ],
      "metadata": {
        "id": "OqV_KOI3imiW"
      },
      "execution_count": 24,
      "outputs": []
    },
    {
      "cell_type": "code",
      "source": [
        "(X_train, y_train), (X_val, y_val), (X_test, y_test) = load_and_preprocess_data()"
      ],
      "metadata": {
        "id": "P2y6q0ZAi6if"
      },
      "execution_count": 25,
      "outputs": []
    },
    {
      "cell_type": "code",
      "source": [
        "len(y_test[0])"
      ],
      "metadata": {
        "colab": {
          "base_uri": "https://localhost:8080/"
        },
        "id": "Pd1S136UjEAo",
        "outputId": "b0967f22-b5c8-4b18-c6a6-c8ba932c6148"
      },
      "execution_count": 28,
      "outputs": [
        {
          "output_type": "execute_result",
          "data": {
            "text/plain": [
              "10"
            ]
          },
          "metadata": {},
          "execution_count": 28
        }
      ]
    },
    {
      "cell_type": "code",
      "source": [
        ""
      ],
      "metadata": {
        "id": "QkSludibm0Iz"
      },
      "execution_count": null,
      "outputs": []
    },
    {
      "cell_type": "code",
      "source": [
        ""
      ],
      "metadata": {
        "id": "CUkWwoYvm0FQ"
      },
      "execution_count": null,
      "outputs": []
    },
    {
      "cell_type": "code",
      "source": [
        "import tensorflow.keras.backend as K\n",
        "import keras\n",
        "from tensorflow.keras.layers import (Input, Conv2D, MaxPooling2D, Flatten, \n",
        "                                     Dense, Dropout, BatchNormalization)\n",
        "from tensorflow.keras.models import Sequential\n",
        "from tensorflow.keras.optimizers import Adam\n",
        "from tensorflow.keras import regularizers\n",
        "\n",
        "\n",
        "IMAGE_HEIGHT, IMAGE_WIDTH, NUM_CHANNELS, NUM_CLASSES = 28, 28, 1, 10\n",
        "\n",
        "def build_model():\n",
        "    \n",
        "        # Model\n",
        "    model = Sequential()\n",
        "    # Add convolution 2D\n",
        "    model.add(Conv2D(32, kernel_size=(3, 3),\n",
        "                    activation='relu',\n",
        "                    kernel_initializer='he_normal',\n",
        "                    input_shape=(IMAGE_HEIGHT, IMAGE_WIDTH, 1)))\n",
        "    model.add(MaxPooling2D((2, 2)))\n",
        "    # Add dropouts to the model\n",
        "    model.add(Dropout(0.25))\n",
        "    model.add(Conv2D(64, \n",
        "                    kernel_size=(3, 3), \n",
        "                    activation='relu'))\n",
        "    model.add(MaxPooling2D(pool_size=(2, 2)))\n",
        "    # Add dropouts to the model\n",
        "    model.add(Dropout(0.25))\n",
        "    model.add(Conv2D(128, (3, 3), activation='relu'))\n",
        "    # Add dropouts to the model\n",
        "    model.add(Dropout(0.4))\n",
        "    model.add(Flatten())\n",
        "    model.add(Dense(128, activation='relu'))\n",
        "    # Add dropouts to the model\n",
        "    model.add(Dropout(0.3))\n",
        "    model.add(Dense(NUM_CLASSES, activation='softmax'))\n",
        "    adam=Adam(lr=0.001,decay=1e-5)\n",
        "\n",
        "\n",
        "    model.compile(loss=keras.losses.categorical_crossentropy,\n",
        "                  optimizer='adam',\n",
        "                  metrics=['accuracy'])\n",
        "\n",
        "   \n",
        "        \n",
        "    return model"
      ],
      "metadata": {
        "id": "nWrNRTh-je6U"
      },
      "execution_count": 29,
      "outputs": []
    },
    {
      "cell_type": "code",
      "source": [
        "model = build_model()\n",
        "print(model.summary())"
      ],
      "metadata": {
        "colab": {
          "base_uri": "https://localhost:8080/"
        },
        "id": "PpW86OqKjEHz",
        "outputId": "87bd34da-43d6-4feb-fea5-3008adfe15ae"
      },
      "execution_count": 30,
      "outputs": [
        {
          "output_type": "stream",
          "name": "stdout",
          "text": [
            "Model: \"sequential_2\"\n",
            "_________________________________________________________________\n",
            " Layer (type)                Output Shape              Param #   \n",
            "=================================================================\n",
            " conv2d_6 (Conv2D)           (None, 26, 26, 32)        320       \n",
            "                                                                 \n",
            " max_pooling2d_4 (MaxPooling  (None, 13, 13, 32)       0         \n",
            " 2D)                                                             \n",
            "                                                                 \n",
            " dropout_8 (Dropout)         (None, 13, 13, 32)        0         \n",
            "                                                                 \n",
            " conv2d_7 (Conv2D)           (None, 11, 11, 64)        18496     \n",
            "                                                                 \n",
            " max_pooling2d_5 (MaxPooling  (None, 5, 5, 64)         0         \n",
            " 2D)                                                             \n",
            "                                                                 \n",
            " dropout_9 (Dropout)         (None, 5, 5, 64)          0         \n",
            "                                                                 \n",
            " conv2d_8 (Conv2D)           (None, 3, 3, 128)         73856     \n",
            "                                                                 \n",
            " dropout_10 (Dropout)        (None, 3, 3, 128)         0         \n",
            "                                                                 \n",
            " flatten_2 (Flatten)         (None, 1152)              0         \n",
            "                                                                 \n",
            " dense_4 (Dense)             (None, 128)               147584    \n",
            "                                                                 \n",
            " dropout_11 (Dropout)        (None, 128)               0         \n",
            "                                                                 \n",
            " dense_5 (Dense)             (None, 10)                1290      \n",
            "                                                                 \n",
            "=================================================================\n",
            "Total params: 241,546\n",
            "Trainable params: 241,546\n",
            "Non-trainable params: 0\n",
            "_________________________________________________________________\n",
            "None\n"
          ]
        },
        {
          "output_type": "stream",
          "name": "stderr",
          "text": [
            "/usr/local/lib/python3.7/dist-packages/keras/optimizer_v2/adam.py:105: UserWarning: The `lr` argument is deprecated, use `learning_rate` instead.\n",
            "  super(Adam, self).__init__(name, **kwargs)\n"
          ]
        }
      ]
    },
    {
      "cell_type": "code",
      "source": [
        "trained_model=model.fit(X_train, y_train, epochs=30,\n",
        "        batch_size=128, validation_data=(X_val, y_val),verbose=1)"
      ],
      "metadata": {
        "colab": {
          "base_uri": "https://localhost:8080/"
        },
        "id": "SMlz-yWgjEKX",
        "outputId": "c3f7b726-bd93-43d3-8347-9e0e59c0a247"
      },
      "execution_count": 31,
      "outputs": [
        {
          "output_type": "stream",
          "name": "stdout",
          "text": [
            "Epoch 1/30\n",
            "375/375 [==============================] - 53s 139ms/step - loss: 0.7744 - accuracy: 0.7106 - val_loss: 0.4863 - val_accuracy: 0.8221\n",
            "Epoch 2/30\n",
            "375/375 [==============================] - 52s 140ms/step - loss: 0.4936 - accuracy: 0.8131 - val_loss: 0.3913 - val_accuracy: 0.8567\n",
            "Epoch 3/30\n",
            "375/375 [==============================] - 64s 170ms/step - loss: 0.4215 - accuracy: 0.8455 - val_loss: 0.3305 - val_accuracy: 0.8771\n",
            "Epoch 4/30\n",
            "375/375 [==============================] - 59s 158ms/step - loss: 0.3764 - accuracy: 0.8620 - val_loss: 0.3005 - val_accuracy: 0.8875\n",
            "Epoch 5/30\n",
            "375/375 [==============================] - 70s 188ms/step - loss: 0.3533 - accuracy: 0.8704 - val_loss: 0.2922 - val_accuracy: 0.8928\n",
            "Epoch 6/30\n",
            "375/375 [==============================] - 52s 138ms/step - loss: 0.3278 - accuracy: 0.8809 - val_loss: 0.2746 - val_accuracy: 0.8992\n",
            "Epoch 7/30\n",
            "375/375 [==============================] - 56s 148ms/step - loss: 0.3163 - accuracy: 0.8833 - val_loss: 0.2666 - val_accuracy: 0.8999\n",
            "Epoch 8/30\n",
            "375/375 [==============================] - 53s 142ms/step - loss: 0.3038 - accuracy: 0.8879 - val_loss: 0.2591 - val_accuracy: 0.9034\n",
            "Epoch 9/30\n",
            "375/375 [==============================] - 52s 139ms/step - loss: 0.2910 - accuracy: 0.8932 - val_loss: 0.2555 - val_accuracy: 0.9027\n",
            "Epoch 10/30\n",
            "375/375 [==============================] - 51s 136ms/step - loss: 0.2794 - accuracy: 0.8972 - val_loss: 0.2461 - val_accuracy: 0.9083\n",
            "Epoch 11/30\n",
            "375/375 [==============================] - 52s 139ms/step - loss: 0.2751 - accuracy: 0.8995 - val_loss: 0.2469 - val_accuracy: 0.9048\n",
            "Epoch 12/30\n",
            "375/375 [==============================] - 51s 137ms/step - loss: 0.2675 - accuracy: 0.9021 - val_loss: 0.2436 - val_accuracy: 0.9100\n",
            "Epoch 13/30\n",
            "375/375 [==============================] - 51s 136ms/step - loss: 0.2581 - accuracy: 0.9049 - val_loss: 0.2413 - val_accuracy: 0.9096\n",
            "Epoch 14/30\n",
            "375/375 [==============================] - 51s 136ms/step - loss: 0.2571 - accuracy: 0.9041 - val_loss: 0.2318 - val_accuracy: 0.9141\n",
            "Epoch 15/30\n",
            "375/375 [==============================] - 51s 137ms/step - loss: 0.2534 - accuracy: 0.9058 - val_loss: 0.2484 - val_accuracy: 0.9096\n",
            "Epoch 16/30\n",
            "375/375 [==============================] - 51s 136ms/step - loss: 0.2492 - accuracy: 0.9086 - val_loss: 0.2320 - val_accuracy: 0.9129\n",
            "Epoch 17/30\n",
            "375/375 [==============================] - 51s 136ms/step - loss: 0.2439 - accuracy: 0.9102 - val_loss: 0.2294 - val_accuracy: 0.9139\n",
            "Epoch 18/30\n",
            "375/375 [==============================] - 51s 137ms/step - loss: 0.2409 - accuracy: 0.9102 - val_loss: 0.2233 - val_accuracy: 0.9188\n",
            "Epoch 19/30\n",
            "375/375 [==============================] - 51s 136ms/step - loss: 0.2322 - accuracy: 0.9132 - val_loss: 0.2244 - val_accuracy: 0.9168\n",
            "Epoch 20/30\n",
            "375/375 [==============================] - 59s 156ms/step - loss: 0.2300 - accuracy: 0.9146 - val_loss: 0.2238 - val_accuracy: 0.9167\n",
            "Epoch 21/30\n",
            "375/375 [==============================] - 51s 136ms/step - loss: 0.2280 - accuracy: 0.9152 - val_loss: 0.2264 - val_accuracy: 0.9162\n",
            "Epoch 22/30\n",
            "375/375 [==============================] - 51s 137ms/step - loss: 0.2324 - accuracy: 0.9146 - val_loss: 0.2250 - val_accuracy: 0.9171\n",
            "Epoch 23/30\n",
            "375/375 [==============================] - 52s 138ms/step - loss: 0.2222 - accuracy: 0.9173 - val_loss: 0.2196 - val_accuracy: 0.9168\n",
            "Epoch 24/30\n",
            "375/375 [==============================] - 51s 136ms/step - loss: 0.2221 - accuracy: 0.9184 - val_loss: 0.2162 - val_accuracy: 0.9203\n",
            "Epoch 25/30\n",
            "375/375 [==============================] - 51s 137ms/step - loss: 0.2183 - accuracy: 0.9174 - val_loss: 0.2211 - val_accuracy: 0.9168\n",
            "Epoch 26/30\n",
            "375/375 [==============================] - 51s 136ms/step - loss: 0.2157 - accuracy: 0.9194 - val_loss: 0.2209 - val_accuracy: 0.9158\n",
            "Epoch 27/30\n",
            "375/375 [==============================] - 51s 136ms/step - loss: 0.2153 - accuracy: 0.9194 - val_loss: 0.2216 - val_accuracy: 0.9169\n",
            "Epoch 28/30\n",
            "375/375 [==============================] - 51s 136ms/step - loss: 0.2111 - accuracy: 0.9208 - val_loss: 0.2220 - val_accuracy: 0.9179\n",
            "Epoch 29/30\n",
            "375/375 [==============================] - 52s 137ms/step - loss: 0.2091 - accuracy: 0.9211 - val_loss: 0.2174 - val_accuracy: 0.9193\n",
            "Epoch 30/30\n",
            "375/375 [==============================] - 51s 136ms/step - loss: 0.2044 - accuracy: 0.9221 - val_loss: 0.2228 - val_accuracy: 0.9181\n"
          ]
        }
      ]
    },
    {
      "cell_type": "code",
      "source": [
        "model.save('/content/drive/MyDrive/BTP/Fashion2/f2.h5')"
      ],
      "metadata": {
        "id": "LqFl8zWejEM5"
      },
      "execution_count": 58,
      "outputs": []
    },
    {
      "cell_type": "code",
      "source": [
        "model.save('/content/f2.h5')"
      ],
      "metadata": {
        "id": "U1bBeWYr1O2b"
      },
      "execution_count": 57,
      "outputs": []
    },
    {
      "cell_type": "code",
      "source": [
        "loss, acc = model.evaluate(X_test, y_test)"
      ],
      "metadata": {
        "colab": {
          "base_uri": "https://localhost:8080/"
        },
        "id": "fNaP5wzTjEPN",
        "outputId": "610c7b6e-8cad-440e-ea18-bf70120370c2"
      },
      "execution_count": 33,
      "outputs": [
        {
          "output_type": "stream",
          "name": "stdout",
          "text": [
            "313/313 [==============================] - 4s 12ms/step - loss: 0.2323 - accuracy: 0.9160\n"
          ]
        }
      ]
    },
    {
      "cell_type": "code",
      "source": [
        "y=model.predict(X_test)\n",
        "np.argmax(y[-2])"
      ],
      "metadata": {
        "colab": {
          "base_uri": "https://localhost:8080/"
        },
        "id": "WSrv9KcWjERE",
        "outputId": "cb15c14c-b58d-4f56-dce8-2b2a17892f64"
      },
      "execution_count": 34,
      "outputs": [
        {
          "output_type": "execute_result",
          "data": {
            "text/plain": [
              "1"
            ]
          },
          "metadata": {},
          "execution_count": 34
        }
      ]
    },
    {
      "cell_type": "code",
      "source": [
        "y_test"
      ],
      "metadata": {
        "colab": {
          "base_uri": "https://localhost:8080/"
        },
        "id": "VRyrFOLqjEUm",
        "outputId": "c9c6967d-0426-429a-b4f1-2008ee85a1d2"
      },
      "execution_count": 35,
      "outputs": [
        {
          "output_type": "execute_result",
          "data": {
            "text/plain": [
              "array([[0., 0., 0., ..., 0., 0., 1.],\n",
              "       [0., 0., 1., ..., 0., 0., 0.],\n",
              "       [0., 1., 0., ..., 0., 0., 0.],\n",
              "       ...,\n",
              "       [0., 0., 0., ..., 0., 1., 0.],\n",
              "       [0., 1., 0., ..., 0., 0., 0.],\n",
              "       [0., 0., 0., ..., 0., 0., 0.]], dtype=float32)"
            ]
          },
          "metadata": {},
          "execution_count": 35
        }
      ]
    },
    {
      "cell_type": "code",
      "source": [
        "# load the image\n",
        "#Correct\n",
        "from keras.preprocessing.image import load_img\n",
        "from keras.preprocessing.image import img_to_array\n",
        "filename='/content/pull.png'\n",
        "img = load_img(filename, grayscale=True, target_size=(28, 28))\n",
        "\n",
        "# convert to array\n",
        "img = img_to_array(img)\n",
        "# reshape into a single sample with 1 channel\n",
        "img = img.reshape(1, 28, 28, 1)\n",
        "# prepare pixel data\n",
        "img = img.astype('float32')\n",
        "img = img / 255.0\n",
        "y11=model.predict(img)\n",
        "print(y11)\n",
        "np.argmax(y11)"
      ],
      "metadata": {
        "colab": {
          "base_uri": "https://localhost:8080/"
        },
        "id": "AOsGv-m2obTZ",
        "outputId": "372389e0-8ce9-4736-b29e-e8051fa39a16"
      },
      "execution_count": 53,
      "outputs": [
        {
          "output_type": "stream",
          "name": "stdout",
          "text": [
            "[[6.0534417e-06 5.1977245e-14 9.9974293e-01 5.0300120e-10 5.9209928e-05\n",
            "  1.1504349e-13 1.9164434e-04 4.5082746e-16 7.5332991e-08 1.9198249e-14]]\n"
          ]
        },
        {
          "output_type": "stream",
          "name": "stderr",
          "text": [
            "/usr/local/lib/python3.7/dist-packages/keras_preprocessing/image/utils.py:107: UserWarning: grayscale is deprecated. Please use color_mode = \"grayscale\"\n",
            "  warnings.warn('grayscale is deprecated. Please use '\n"
          ]
        },
        {
          "output_type": "execute_result",
          "data": {
            "text/plain": [
              "2"
            ]
          },
          "metadata": {},
          "execution_count": 53
        }
      ]
    },
    {
      "cell_type": "code",
      "source": [
        "def show_history(model):\n",
        "    plt.plot(model.history['accuracy'])\n",
        "    plt.plot(model.history['val_accuracy'])\n",
        "    plt.ylabel('accuracy')\n",
        "    plt.xlabel('epoch')\n",
        "    plt.legend(['train_accuracy', 'validation_accuracy'], loc='best')\n",
        "    plt.show()"
      ],
      "metadata": {
        "id": "KJoMpekVobfA"
      },
      "execution_count": 37,
      "outputs": []
    },
    {
      "cell_type": "code",
      "source": [
        "def show_history1(model):\n",
        "    plt.plot(model.history['loss'])\n",
        "    plt.plot(model.history['val_loss'])\n",
        "    plt.ylabel('loss')\n",
        "    plt.xlabel('epoch')\n",
        "    plt.legend(['train_loss', 'validation_loss'], loc='best')\n",
        "    plt.show()"
      ],
      "metadata": {
        "id": "cxVcLFswobj_"
      },
      "execution_count": 38,
      "outputs": []
    },
    {
      "cell_type": "code",
      "source": [
        "show_history(trained_model)"
      ],
      "metadata": {
        "colab": {
          "base_uri": "https://localhost:8080/",
          "height": 288
        },
        "id": "g002X7yyorrQ",
        "outputId": "21633b86-919d-477a-8d95-3ab93061695d"
      },
      "execution_count": 39,
      "outputs": [
        {
          "output_type": "display_data",
          "data": {
            "image/png": "[encoded data removed]",
            "text/plain": [
              "<Figure size 432x288 with 1 Axes>"
            ]
          },
          "metadata": {
            "needs_background": "light"
          }
        }
      ]
    },
    {
      "cell_type": "code",
      "source": [
        "show_history1(trained_model)"
      ],
      "metadata": {
        "colab": {
          "base_uri": "https://localhost:8080/",
          "height": 292
        },
        "id": "mavo4XTmoruy",
        "outputId": "05f353aa-893a-4248-8a45-9575c507d663"
      },
      "execution_count": 40,
      "outputs": [
        {
          "output_type": "display_data",
          "data": {
            "image/png": "[encoded data removed]",
            "text/plain": [
              "<Figure size 432x288 with 1 Axes>"
            ]
          },
          "metadata": {
            "needs_background": "light"
          }
        }
      ]
    }
  ]
}