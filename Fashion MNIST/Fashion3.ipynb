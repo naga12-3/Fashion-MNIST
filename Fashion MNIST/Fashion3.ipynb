{
  "nbformat": 4,
  "nbformat_minor": 0,
  "metadata": {
    "colab": {
      "name": "Fashion3.ipynb",
      "provenance": []
    },
    "kernelspec": {
      "name": "python3",
      "display_name": "Python 3"
    },
    "language_info": {
      "name": "python"
    }
  },
  "cells": [
    {
      "cell_type": "code",
      "execution_count": 2,
      "metadata": {
        "id": "PsxPOMPq13gY"
      },
      "outputs": [],
      "source": [
        "\n",
        "import os, random\n",
        "import numpy as np\n",
        "import matplotlib.pyplot as plt\n",
        "import seaborn as sns\n",
        "import tensorflow as tf\n",
        "import keras\n",
        "from tensorflow.keras.utils import to_categorical"
      ]
    },
    {
      "cell_type": "code",
      "source": [
        "%cd '/content/drive/MyDrive/BTP/Fashion3'"
      ],
      "metadata": {
        "colab": {
          "base_uri": "https://localhost:8080/"
        },
        "id": "eSzGK1qSYvOC",
        "outputId": "74e65e87-7fe7-4044-e24c-2970fa6e74d9"
      },
      "execution_count": 1,
      "outputs": [
        {
          "output_type": "stream",
          "name": "stdout",
          "text": [
            "/content/drive/MyDrive/BTP/Fashion3\n"
          ]
        }
      ]
    },
    {
      "cell_type": "code",
      "source": [
        "def load_and_preprocess_data(debug=False):\n",
        "    \n",
        "    from tensorflow.keras.datasets.fashion_mnist import load_data\n",
        "   \n",
        "\n",
        "# Step-1: load the raw dataset\n",
        "    (X_train, y_train), (X_test, y_test) = load_data()\n",
        "\n",
        "    indexes = np.arange(X_train.shape[0])\n",
        "    for _ in range(5): indexes = np.random.permutation(indexes)  # shuffle 5 times!\n",
        "    X_train = X_train[indexes]\n",
        "    y_train = y_train[indexes]\n",
        "    X_train1=X_train.copy()\n",
        "    y_train1=y_train.copy()\n",
        "      #Train - 80%\n",
        "      #Valid - 20% \n",
        "    val_count = 48000\n",
        "    X_train=X_train1[:val_count]\n",
        "    y_train=y_train1[:val_count]\n",
        "    X_val = X_train1[val_count:]\n",
        "    y_val = y_train1[val_count:]\n",
        "    \n",
        "# Step-3: scale the images\n",
        "    # scale the images to between 0-1\n",
        "    X_train = X_train.astype('float32') / 255.0\n",
        "    X_val = X_val.astype('float32') / 255.0\n",
        "    X_test = X_test.astype('float32') / 255.0\n",
        "\n",
        "# Step-4: reshape the images into 3D tensors so our CNN can consume it\n",
        "    # reshape the image arrays (make 2D arrays instead of 3D arrays)\n",
        "    X_train = np.reshape(X_train, (X_train.shape[0], X_train.shape[1], X_train.shape[2], 1))\n",
        "    X_val = np.reshape(X_val, (X_val.shape[0], X_val.shape[1], X_val.shape[2], 1))\n",
        "    X_test = np.reshape(X_test, (X_test.shape[0], X_test.shape[1], X_test.shape[2], 1))\n",
        "    y_train=to_categorical(y_train)\n",
        "    y_val=to_categorical(y_val)\n",
        "    y_test=to_categorical(y_test)\n",
        "\n",
        "   \n",
        "\n",
        "    return (X_train, y_train), (X_val, y_val), (X_test, y_test)"
      ],
      "metadata": {
        "id": "wcu1w_BkYzSs"
      },
      "execution_count": 5,
      "outputs": []
    },
    {
      "cell_type": "code",
      "source": [
        "(X_train, y_train), (X_val, y_val), (X_test, y_test) = load_and_preprocess_data()"
      ],
      "metadata": {
        "id": "iQLn1QShYzPT"
      },
      "execution_count": 6,
      "outputs": []
    },
    {
      "cell_type": "code",
      "source": [
        "import tensorflow.keras.backend as K\n",
        "import keras\n",
        "from tensorflow.keras.layers import (Input, Conv2D, MaxPooling2D, Flatten, \n",
        "                                     Dense, Dropout, BatchNormalization)\n",
        "from tensorflow.keras.models import Sequential\n",
        "from tensorflow.keras.optimizers import Adam\n",
        "from tensorflow.keras import regularizers\n",
        "from tensorflow.keras.optimizers import SGD\n",
        "\n",
        "\n",
        "IMAGE_HEIGHT, IMAGE_WIDTH, NUM_CHANNELS, NUM_CLASSES = 28, 28, 1, 10\n",
        "\n",
        "def build_model():\n",
        "  model = Sequential()\n",
        "  model.add(Conv2D(32, (3, 3), activation='relu', kernel_initializer='he_uniform', input_shape=(28, 28, 1)))\n",
        "  model.add(MaxPooling2D((2, 2)))\n",
        "  model.add(Flatten())\n",
        "  model.add(Dense(100, activation='relu', kernel_initializer='he_uniform'))\n",
        "  model.add(Dense(10, activation='softmax'))\n",
        "  # compile model\n",
        "  opt = SGD(lr=0.01, momentum=0.9)\n",
        "  model.compile(optimizer=opt, loss='categorical_crossentropy', metrics=['accuracy'])\n",
        "  return model\n",
        "\n",
        "                   "
      ],
      "metadata": {
        "id": "CMHDBW53YzNU"
      },
      "execution_count": 14,
      "outputs": []
    },
    {
      "cell_type": "code",
      "source": [
        "\n",
        "model = build_model()\n",
        "print(model.summary())"
      ],
      "metadata": {
        "colab": {
          "base_uri": "https://localhost:8080/"
        },
        "id": "Q_2iZUONYzKH",
        "outputId": "2f7e460d-310a-44c6-9f47-2a9612756953"
      },
      "execution_count": 15,
      "outputs": [
        {
          "output_type": "stream",
          "name": "stdout",
          "text": [
            "Model: \"sequential_1\"\n",
            "_________________________________________________________________\n",
            " Layer (type)                Output Shape              Param #   \n",
            "=================================================================\n",
            " conv2d_1 (Conv2D)           (None, 26, 26, 32)        320       \n",
            "                                                                 \n",
            " max_pooling2d_1 (MaxPooling  (None, 13, 13, 32)       0         \n",
            " 2D)                                                             \n",
            "                                                                 \n",
            " flatten_1 (Flatten)         (None, 5408)              0         \n",
            "                                                                 \n",
            " dense_2 (Dense)             (None, 100)               540900    \n",
            "                                                                 \n",
            " dense_3 (Dense)             (None, 10)                1010      \n",
            "                                                                 \n",
            "=================================================================\n",
            "Total params: 542,230\n",
            "Trainable params: 542,230\n",
            "Non-trainable params: 0\n",
            "_________________________________________________________________\n",
            "None\n"
          ]
        },
        {
          "output_type": "stream",
          "name": "stderr",
          "text": [
            "/usr/local/lib/python3.7/dist-packages/keras/optimizer_v2/gradient_descent.py:102: UserWarning: The `lr` argument is deprecated, use `learning_rate` instead.\n",
            "  super(SGD, self).__init__(name, **kwargs)\n"
          ]
        }
      ]
    },
    {
      "cell_type": "code",
      "source": [
        "trained_model=model.fit(X_train, y_train, epochs=20,\n",
        "        batch_size=64, validation_data=(X_val, y_val),verbose=1)"
      ],
      "metadata": {
        "colab": {
          "base_uri": "https://localhost:8080/"
        },
        "id": "Lqcnb169YzHz",
        "outputId": "a65034e6-6bec-4c26-d96e-475ebbad4310"
      },
      "execution_count": 16,
      "outputs": [
        {
          "output_type": "stream",
          "name": "stdout",
          "text": [
            "Epoch 1/20\n",
            "750/750 [==============================] - 15s 8ms/step - loss: 0.4747 - accuracy: 0.8309 - val_loss: 0.3534 - val_accuracy: 0.8728\n",
            "Epoch 2/20\n",
            "750/750 [==============================] - 6s 7ms/step - loss: 0.3217 - accuracy: 0.8849 - val_loss: 0.3403 - val_accuracy: 0.8784\n",
            "Epoch 3/20\n",
            "750/750 [==============================] - 6s 8ms/step - loss: 0.2764 - accuracy: 0.9005 - val_loss: 0.2894 - val_accuracy: 0.8938\n",
            "Epoch 4/20\n",
            "750/750 [==============================] - 5s 7ms/step - loss: 0.2504 - accuracy: 0.9085 - val_loss: 0.2770 - val_accuracy: 0.9019\n",
            "Epoch 5/20\n",
            "750/750 [==============================] - 6s 8ms/step - loss: 0.2215 - accuracy: 0.9184 - val_loss: 0.2758 - val_accuracy: 0.9013\n",
            "Epoch 6/20\n",
            "750/750 [==============================] - 5s 7ms/step - loss: 0.2032 - accuracy: 0.9256 - val_loss: 0.2624 - val_accuracy: 0.9094\n",
            "Epoch 7/20\n",
            "750/750 [==============================] - 5s 7ms/step - loss: 0.1849 - accuracy: 0.9324 - val_loss: 0.2511 - val_accuracy: 0.9099\n",
            "Epoch 8/20\n",
            "750/750 [==============================] - 5s 7ms/step - loss: 0.1725 - accuracy: 0.9368 - val_loss: 0.2973 - val_accuracy: 0.8976\n",
            "Epoch 9/20\n",
            "750/750 [==============================] - 5s 7ms/step - loss: 0.1583 - accuracy: 0.9420 - val_loss: 0.2657 - val_accuracy: 0.9063\n",
            "Epoch 10/20\n",
            "750/750 [==============================] - 6s 7ms/step - loss: 0.1457 - accuracy: 0.9482 - val_loss: 0.2583 - val_accuracy: 0.9130\n",
            "Epoch 11/20\n",
            "750/750 [==============================] - 5s 7ms/step - loss: 0.1353 - accuracy: 0.9510 - val_loss: 0.2504 - val_accuracy: 0.9134\n",
            "Epoch 12/20\n",
            "750/750 [==============================] - 5s 7ms/step - loss: 0.1240 - accuracy: 0.9566 - val_loss: 0.2683 - val_accuracy: 0.9104\n",
            "Epoch 13/20\n",
            "750/750 [==============================] - 6s 8ms/step - loss: 0.1176 - accuracy: 0.9579 - val_loss: 0.2688 - val_accuracy: 0.9098\n",
            "Epoch 14/20\n",
            "750/750 [==============================] - 6s 8ms/step - loss: 0.1036 - accuracy: 0.9635 - val_loss: 0.2796 - val_accuracy: 0.9091\n",
            "Epoch 15/20\n",
            "750/750 [==============================] - 6s 8ms/step - loss: 0.0965 - accuracy: 0.9656 - val_loss: 0.3052 - val_accuracy: 0.9030\n",
            "Epoch 16/20\n",
            "750/750 [==============================] - 5s 7ms/step - loss: 0.0896 - accuracy: 0.9684 - val_loss: 0.2830 - val_accuracy: 0.9126\n",
            "Epoch 17/20\n",
            "750/750 [==============================] - 6s 8ms/step - loss: 0.0804 - accuracy: 0.9725 - val_loss: 0.2919 - val_accuracy: 0.9124\n",
            "Epoch 18/20\n",
            "750/750 [==============================] - 5s 7ms/step - loss: 0.0749 - accuracy: 0.9736 - val_loss: 0.3201 - val_accuracy: 0.9041\n",
            "Epoch 19/20\n",
            "750/750 [==============================] - 6s 7ms/step - loss: 0.0686 - accuracy: 0.9761 - val_loss: 0.3144 - val_accuracy: 0.9084\n",
            "Epoch 20/20\n",
            "750/750 [==============================] - 5s 7ms/step - loss: 0.0623 - accuracy: 0.9787 - val_loss: 0.3074 - val_accuracy: 0.9133\n"
          ]
        }
      ]
    },
    {
      "cell_type": "code",
      "source": [
        "model.save('/content/drive/MyDrive/BTP/Fashion3/f3.h5')"
      ],
      "metadata": {
        "id": "4ZHII2NdYzFf"
      },
      "execution_count": 17,
      "outputs": []
    },
    {
      "cell_type": "code",
      "source": [
        "model.save('/content/f3.h5')"
      ],
      "metadata": {
        "id": "93DSNK9RYzDB"
      },
      "execution_count": 18,
      "outputs": []
    },
    {
      "cell_type": "code",
      "source": [
        "loss, acc = model.evaluate(X_test, y_test)"
      ],
      "metadata": {
        "colab": {
          "base_uri": "https://localhost:8080/"
        },
        "id": "sCJHaJ8rYzAO",
        "outputId": "083f2406-50e4-45a4-c1f1-fd02e272b790"
      },
      "execution_count": 19,
      "outputs": [
        {
          "output_type": "stream",
          "name": "stdout",
          "text": [
            "313/313 [==============================] - 1s 4ms/step - loss: 0.3226 - accuracy: 0.9094\n"
          ]
        }
      ]
    },
    {
      "cell_type": "code",
      "source": [
        "# load the image\n",
        "#Correct\n",
        "from keras.preprocessing.image import load_img\n",
        "from keras.preprocessing.image import img_to_array\n",
        "filename='/pull.png'\n",
        "img = load_img(filename, grayscale=True, target_size=(28, 28))\n",
        "\n",
        "# convert to array\n",
        "img = img_to_array(img)\n",
        "# reshape into a single sample with 1 channel\n",
        "img = img.reshape(1, 28, 28, 1)\n",
        "# prepare pixel data\n",
        "img = img.astype('float32')\n",
        "img = img / 255.0\n",
        "y11=model.predict(img)\n",
        "print(y11)\n",
        "np.argmax(y11)"
      ],
      "metadata": {
        "colab": {
          "base_uri": "https://localhost:8080/"
        },
        "id": "ULtQbJDWYy9e",
        "outputId": "5ac48f92-3271-4878-e641-c58d3568c600"
      },
      "execution_count": 25,
      "outputs": [
        {
          "output_type": "stream",
          "name": "stdout",
          "text": [
            "[[6.1972976e-08 7.8440374e-14 9.9999976e-01 9.5959764e-13 7.5491091e-10\n",
            "  2.1262756e-14 6.8697346e-08 2.4374003e-11 1.2866029e-13 8.7668989e-13]]\n"
          ]
        },
        {
          "output_type": "stream",
          "name": "stderr",
          "text": [
            "/usr/local/lib/python3.7/dist-packages/keras_preprocessing/image/utils.py:107: UserWarning: grayscale is deprecated. Please use color_mode = \"grayscale\"\n",
            "  warnings.warn('grayscale is deprecated. Please use '\n"
          ]
        },
        {
          "output_type": "execute_result",
          "data": {
            "text/plain": [
              "2"
            ]
          },
          "metadata": {},
          "execution_count": 25
        }
      ]
    },
    {
      "cell_type": "code",
      "source": [
        "def show_history(model):\n",
        "    plt.plot(model.history['accuracy'])\n",
        "    plt.plot(model.history['val_accuracy'])\n",
        "    plt.ylabel('accuracy')\n",
        "    plt.xlabel('epoch')\n",
        "    plt.legend(['train_accuracy', 'validation_accuracy'], loc='best')\n",
        "    plt.show()"
      ],
      "metadata": {
        "id": "Q1TUkC6vYyoV"
      },
      "execution_count": 21,
      "outputs": []
    },
    {
      "cell_type": "code",
      "source": [
        "def show_history1(model):\n",
        "    plt.plot(model.history['loss'])\n",
        "    plt.plot(model.history['val_loss'])\n",
        "    plt.ylabel('loss')\n",
        "    plt.xlabel('epoch')\n",
        "    plt.legend(['train_loss', 'validation_loss'], loc='best')\n",
        "    plt.show()"
      ],
      "metadata": {
        "id": "SJao32F3ZSPH"
      },
      "execution_count": 22,
      "outputs": []
    },
    {
      "cell_type": "code",
      "source": [
        "show_history(trained_model)"
      ],
      "metadata": {
        "colab": {
          "base_uri": "https://localhost:8080/",
          "height": 279
        },
        "id": "USjsKsIvZSLt",
        "outputId": "1be97f35-5f29-4c55-c537-2fbe42f74e76"
      },
      "execution_count": 23,
      "outputs": [
        {
          "output_type": "display_data",
          "data": {
            "image/png": "[encoded data removed]",
            "text/plain": [
              "<Figure size 432x288 with 1 Axes>"
            ]
          },
          "metadata": {
            "needs_background": "light"
          }
        }
      ]
    },
    {
      "cell_type": "code",
      "source": [
        "show_history1(trained_model)"
      ],
      "metadata": {
        "colab": {
          "base_uri": "https://localhost:8080/",
          "height": 279
        },
        "id": "BVcCBv8aZSJh",
        "outputId": "1f6b9054-b371-41ae-d46e-f88c12d62c25"
      },
      "execution_count": 24,
      "outputs": [
        {
          "output_type": "display_data",
          "data": {
            "image/png": "[encoded data removed]",
            "text/plain": [
              "<Figure size 432x288 with 1 Axes>"
            ]
          },
          "metadata": {
            "needs_background": "light"
          }
        }
      ]
    }
  ]
}